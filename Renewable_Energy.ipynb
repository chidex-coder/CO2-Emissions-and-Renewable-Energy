{
 "cells": [
  {
   "cell_type": "code",
   "execution_count": 1,
   "id": "79f4b9f7",
   "metadata": {},
   "outputs": [],
   "source": [
    "import argparse, os, itertools, warnings, json\n",
    "import sqlite3\n",
    "import numpy as np\n",
    "import pandas as pd\n",
    "import plotly.express as px\n",
    "from sklearn.metrics import mean_squared_error\n",
    "from statsmodels.tsa.statespace.sarimax import SARIMAX\n",
    "\n",
    "warnings.filterwarnings(\"ignore\")"
   ]
  },
  {
   "cell_type": "code",
   "execution_count": 2,
   "id": "9d5e592a",
   "metadata": {},
   "outputs": [
    {
     "name": "stderr",
     "output_type": "stream",
     "text": [
      "usage: ipykernel_launcher.py [-h] --csv CSV [--outdir OUTDIR]\n",
      "ipykernel_launcher.py: error: the following arguments are required: --csv\n"
     ]
    },
    {
     "ename": "SystemExit",
     "evalue": "2",
     "output_type": "error",
     "traceback": [
      "An exception has occurred, use %tb to see the full traceback.\n",
      "\u001b[31mSystemExit\u001b[39m\u001b[31m:\u001b[39m 2\n"
     ]
    }
   ],
   "source": [
    "# ---------- Args ----------\n",
    "parser = argparse.ArgumentParser()\n",
    "parser.add_argument(\"--csv\", required=True, help=\"Path to Copy1-Emissions_Renewables_Merged.csv\")\n",
    "parser.add_argument(\"--outdir\", default=\"outputs\", help=\"Folder to store DB, CSVs, HTML, etc.\")\n",
    "args = parser.parse_args()\n",
    "os.makedirs(args.outdir, exist_ok=True)\n",
    "\n",
    "DB_PATH = os.path.join(args.outdir, \"emissions_un_m49.db\")"
   ]
  },
  {
   "cell_type": "code",
   "execution_count": 3,
   "id": "d3af83d6",
   "metadata": {},
   "outputs": [
    {
     "ename": "SystemExit",
     "evalue": "2",
     "output_type": "error",
     "traceback": [
      "\u001b[31m---------------------------------------------------------------------------\u001b[39m",
      "\u001b[31mArgumentError\u001b[39m                             Traceback (most recent call last)",
      "\u001b[36mFile \u001b[39m\u001b[32m/opt/anaconda3/envs/Tensorflow/lib/python3.12/argparse.py:1943\u001b[39m, in \u001b[36mArgumentParser._parse_known_args2\u001b[39m\u001b[34m(self, args, namespace, intermixed)\u001b[39m\n\u001b[32m   1942\u001b[39m \u001b[38;5;28;01mtry\u001b[39;00m:\n\u001b[32m-> \u001b[39m\u001b[32m1943\u001b[39m     namespace, args = \u001b[38;5;28mself\u001b[39m._parse_known_args(args, namespace, intermixed)\n\u001b[32m   1944\u001b[39m \u001b[38;5;28;01mexcept\u001b[39;00m ArgumentError \u001b[38;5;28;01mas\u001b[39;00m err:\n",
      "\u001b[36mFile \u001b[39m\u001b[32m/opt/anaconda3/envs/Tensorflow/lib/python3.12/argparse.py:2230\u001b[39m, in \u001b[36mArgumentParser._parse_known_args\u001b[39m\u001b[34m(self, arg_strings, namespace, intermixed)\u001b[39m\n\u001b[32m   2229\u001b[39m \u001b[38;5;28;01mif\u001b[39;00m required_actions:\n\u001b[32m-> \u001b[39m\u001b[32m2230\u001b[39m     \u001b[38;5;28;01mraise\u001b[39;00m ArgumentError(\u001b[38;5;28;01mNone\u001b[39;00m, _(\u001b[33m'\u001b[39m\u001b[33mthe following arguments are required: \u001b[39m\u001b[38;5;132;01m%s\u001b[39;00m\u001b[33m'\u001b[39m) %\n\u001b[32m   2231\u001b[39m                \u001b[33m'\u001b[39m\u001b[33m, \u001b[39m\u001b[33m'\u001b[39m.join(required_actions))\n\u001b[32m   2233\u001b[39m \u001b[38;5;66;03m# make sure all required groups had one option present\u001b[39;00m\n",
      "\u001b[31mArgumentError\u001b[39m: the following arguments are required: --csv",
      "\nDuring handling of the above exception, another exception occurred:\n",
      "\u001b[31mSystemExit\u001b[39m                                Traceback (most recent call last)",
      "\u001b[36mCell\u001b[39m\u001b[36m \u001b[39m\u001b[32mIn[2]\u001b[39m\u001b[32m, line 5\u001b[39m\n\u001b[32m      3\u001b[39m parser.add_argument(\u001b[33m\"\u001b[39m\u001b[33m--csv\u001b[39m\u001b[33m\"\u001b[39m, required=\u001b[38;5;28;01mTrue\u001b[39;00m, help=\u001b[33m\"\u001b[39m\u001b[33mPath to Copy1-Emissions_Renewables_Merged.csv\u001b[39m\u001b[33m\"\u001b[39m)\n\u001b[32m      4\u001b[39m parser.add_argument(\u001b[33m\"\u001b[39m\u001b[33m--outdir\u001b[39m\u001b[33m\"\u001b[39m, default=\u001b[33m\"\u001b[39m\u001b[33moutputs\u001b[39m\u001b[33m\"\u001b[39m, help=\u001b[33m\"\u001b[39m\u001b[33mFolder to store DB, CSVs, HTML, etc.\u001b[39m\u001b[33m\"\u001b[39m)\n\u001b[32m----> \u001b[39m\u001b[32m5\u001b[39m args = parser.parse_args()\n\u001b[32m      6\u001b[39m os.makedirs(args.outdir, exist_ok=\u001b[38;5;28;01mTrue\u001b[39;00m)\n\u001b[32m      8\u001b[39m DB_PATH = os.path.join(args.outdir, \u001b[33m\"\u001b[39m\u001b[33memissions_un_m49.db\u001b[39m\u001b[33m\"\u001b[39m)\n",
      "\u001b[36mFile \u001b[39m\u001b[32m/opt/anaconda3/envs/Tensorflow/lib/python3.12/argparse.py:1904\u001b[39m, in \u001b[36mArgumentParser.parse_args\u001b[39m\u001b[34m(self, args, namespace)\u001b[39m\n\u001b[32m   1903\u001b[39m \u001b[38;5;28;01mdef\u001b[39;00m\u001b[38;5;250m \u001b[39m\u001b[34mparse_args\u001b[39m(\u001b[38;5;28mself\u001b[39m, args=\u001b[38;5;28;01mNone\u001b[39;00m, namespace=\u001b[38;5;28;01mNone\u001b[39;00m):\n\u001b[32m-> \u001b[39m\u001b[32m1904\u001b[39m     args, argv = \u001b[38;5;28mself\u001b[39m.parse_known_args(args, namespace)\n\u001b[32m   1905\u001b[39m     \u001b[38;5;28;01mif\u001b[39;00m argv:\n\u001b[32m   1906\u001b[39m         msg = _(\u001b[33m'\u001b[39m\u001b[33munrecognized arguments: \u001b[39m\u001b[38;5;132;01m%s\u001b[39;00m\u001b[33m'\u001b[39m) % \u001b[33m'\u001b[39m\u001b[33m \u001b[39m\u001b[33m'\u001b[39m.join(argv)\n",
      "\u001b[36mFile \u001b[39m\u001b[32m/opt/anaconda3/envs/Tensorflow/lib/python3.12/argparse.py:1914\u001b[39m, in \u001b[36mArgumentParser.parse_known_args\u001b[39m\u001b[34m(self, args, namespace)\u001b[39m\n\u001b[32m   1913\u001b[39m \u001b[38;5;28;01mdef\u001b[39;00m\u001b[38;5;250m \u001b[39m\u001b[34mparse_known_args\u001b[39m(\u001b[38;5;28mself\u001b[39m, args=\u001b[38;5;28;01mNone\u001b[39;00m, namespace=\u001b[38;5;28;01mNone\u001b[39;00m):\n\u001b[32m-> \u001b[39m\u001b[32m1914\u001b[39m     \u001b[38;5;28;01mreturn\u001b[39;00m \u001b[38;5;28mself\u001b[39m._parse_known_args2(args, namespace, intermixed=\u001b[38;5;28;01mFalse\u001b[39;00m)\n",
      "\u001b[36mFile \u001b[39m\u001b[32m/opt/anaconda3/envs/Tensorflow/lib/python3.12/argparse.py:1945\u001b[39m, in \u001b[36mArgumentParser._parse_known_args2\u001b[39m\u001b[34m(self, args, namespace, intermixed)\u001b[39m\n\u001b[32m   1943\u001b[39m         namespace, args = \u001b[38;5;28mself\u001b[39m._parse_known_args(args, namespace, intermixed)\n\u001b[32m   1944\u001b[39m     \u001b[38;5;28;01mexcept\u001b[39;00m ArgumentError \u001b[38;5;28;01mas\u001b[39;00m err:\n\u001b[32m-> \u001b[39m\u001b[32m1945\u001b[39m         \u001b[38;5;28mself\u001b[39m.error(\u001b[38;5;28mstr\u001b[39m(err))\n\u001b[32m   1946\u001b[39m \u001b[38;5;28;01melse\u001b[39;00m:\n\u001b[32m   1947\u001b[39m     namespace, args = \u001b[38;5;28mself\u001b[39m._parse_known_args(args, namespace, intermixed)\n",
      "\u001b[36mFile \u001b[39m\u001b[32m/opt/anaconda3/envs/Tensorflow/lib/python3.12/argparse.py:2650\u001b[39m, in \u001b[36mArgumentParser.error\u001b[39m\u001b[34m(self, message)\u001b[39m\n\u001b[32m   2648\u001b[39m \u001b[38;5;28mself\u001b[39m.print_usage(_sys.stderr)\n\u001b[32m   2649\u001b[39m args = {\u001b[33m'\u001b[39m\u001b[33mprog\u001b[39m\u001b[33m'\u001b[39m: \u001b[38;5;28mself\u001b[39m.prog, \u001b[33m'\u001b[39m\u001b[33mmessage\u001b[39m\u001b[33m'\u001b[39m: message}\n\u001b[32m-> \u001b[39m\u001b[32m2650\u001b[39m \u001b[38;5;28mself\u001b[39m.exit(\u001b[32m2\u001b[39m, _(\u001b[33m'\u001b[39m\u001b[38;5;132;01m%(prog)s\u001b[39;00m\u001b[33m: error: \u001b[39m\u001b[38;5;132;01m%(message)s\u001b[39;00m\u001b[38;5;130;01m\\n\u001b[39;00m\u001b[33m'\u001b[39m) % args)\n",
      "\u001b[36mFile \u001b[39m\u001b[32m/opt/anaconda3/envs/Tensorflow/lib/python3.12/argparse.py:2637\u001b[39m, in \u001b[36mArgumentParser.exit\u001b[39m\u001b[34m(self, status, message)\u001b[39m\n\u001b[32m   2635\u001b[39m \u001b[38;5;28;01mif\u001b[39;00m message:\n\u001b[32m   2636\u001b[39m     \u001b[38;5;28mself\u001b[39m._print_message(message, _sys.stderr)\n\u001b[32m-> \u001b[39m\u001b[32m2637\u001b[39m _sys.exit(status)\n",
      "\u001b[31mSystemExit\u001b[39m: 2"
     ]
    }
   ],
   "source": [
    "%tb"
   ]
  },
  {
   "cell_type": "code",
   "execution_count": null,
   "id": "273fb10a",
   "metadata": {},
   "outputs": [],
   "source": []
  }
 ],
 "metadata": {
  "kernelspec": {
   "display_name": "Tensorflow",
   "language": "python",
   "name": "python3"
  },
  "language_info": {
   "codemirror_mode": {
    "name": "ipython",
    "version": 3
   },
   "file_extension": ".py",
   "mimetype": "text/x-python",
   "name": "python",
   "nbconvert_exporter": "python",
   "pygments_lexer": "ipython3",
   "version": "3.12.9"
  }
 },
 "nbformat": 4,
 "nbformat_minor": 5
}
